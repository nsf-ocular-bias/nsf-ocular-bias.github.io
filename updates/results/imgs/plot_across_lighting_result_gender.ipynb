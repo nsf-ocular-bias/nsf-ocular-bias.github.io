{
 "cells": [
  {
   "cell_type": "code",
   "execution_count": 1,
   "metadata": {},
   "outputs": [
    {
     "data": {
      "application/vnd.plotly.v1+json": {
       "config": {
        "plotlyServerURL": "https://plot.ly"
       },
       "data": [
        {
         "alignmentgroup": "True",
         "hovertemplate": "Lighting=dim<br>Metric=Male Acc<br>Model=%{x}<br>Value=%{y}<extra></extra>",
         "legendgroup": "dim",
         "marker": {
          "color": "#636efa",
          "pattern": {
           "shape": ""
          }
         },
         "name": "dim",
         "offsetgroup": "dim",
         "orientation": "v",
         "showlegend": true,
         "textposition": "auto",
         "type": "bar",
         "x": [
          "inception_v3",
          "inception_resnet_v2",
          "efficientnet_b4",
          "mobilenetv2_100",
          "vit_base_patch16_224",
          "xception",
          "resnet50",
          "densenet121",
          "efficientnet_b0"
         ],
         "xaxis": "x",
         "y": [
          0.6240000128746033,
          0.4865454435348511,
          0.7421818375587463,
          0.6992727518081665,
          0.614545464515686,
          0.8043636083602905,
          0.5058181881904602,
          0.8850908875465393,
          0.7614545226097107
         ],
         "yaxis": "y"
        },
        {
         "alignmentgroup": "True",
         "hovertemplate": "Lighting=dim<br>Metric=Female Acc<br>Model=%{x}<br>Value=%{y}<extra></extra>",
         "legendgroup": "dim",
         "marker": {
          "color": "#636efa",
          "pattern": {
           "shape": ""
          }
         },
         "name": "dim",
         "offsetgroup": "dim",
         "orientation": "v",
         "showlegend": false,
         "textposition": "auto",
         "type": "bar",
         "x": [
          "inception_v3",
          "inception_resnet_v2",
          "efficientnet_b4",
          "mobilenetv2_100",
          "vit_base_patch16_224",
          "xception",
          "resnet50",
          "densenet121",
          "efficientnet_b0"
         ],
         "xaxis": "x2",
         "y": [
          0.7648794651031494,
          0.9021151065826416,
          0.7697983384132385,
          0.8007870316505432,
          0.8214461207389832,
          0.7584850192070007,
          0.9109690189361572,
          0.5405804514884949,
          0.7570093274116516
         ],
         "yaxis": "y2"
        },
        {
         "alignmentgroup": "True",
         "hovertemplate": "Lighting=dim<br>Metric=Avg Acc<br>Model=%{x}<br>Value=%{y}<extra></extra>",
         "legendgroup": "dim",
         "marker": {
          "color": "#636efa",
          "pattern": {
           "shape": ""
          }
         },
         "name": "dim",
         "offsetgroup": "dim",
         "orientation": "v",
         "showlegend": false,
         "textposition": "auto",
         "type": "bar",
         "x": [
          "inception_v3",
          "inception_resnet_v2",
          "efficientnet_b4",
          "mobilenetv2_100",
          "vit_base_patch16_224",
          "xception",
          "resnet50",
          "densenet121",
          "efficientnet_b0"
         ],
         "xaxis": "x3",
         "y": [
          0.6838803887367249,
          0.6631820797920227,
          0.7539201378822327,
          0.7424210906028748,
          0.7024880051612854,
          0.7848630547523499,
          0.6780263185501099,
          0.7386577725410461,
          0.7595651149749756
         ],
         "yaxis": "y3"
        },
        {
         "alignmentgroup": "True",
         "hovertemplate": "Lighting=dim<br>Metric=MCC<br>Model=%{x}<br>Value=%{y}<extra></extra>",
         "legendgroup": "dim",
         "marker": {
          "color": "#636efa",
          "pattern": {
           "shape": ""
          }
         },
         "name": "dim",
         "offsetgroup": "dim",
         "orientation": "v",
         "showlegend": false,
         "textposition": "auto",
         "type": "bar",
         "x": [
          "inception_v3",
          "inception_resnet_v2",
          "efficientnet_b4",
          "mobilenetv2_100",
          "vit_base_patch16_224",
          "xception",
          "resnet50",
          "densenet121",
          "efficientnet_b0"
         ],
         "xaxis": "x4",
         "y": [
          0.3858031332492828,
          0.4114284813404083,
          0.5068070292472839,
          0.4945835173130035,
          0.4354490935802459,
          0.5612702369689941,
          0.4386347532272339,
          0.4610471427440643,
          0.5143446922302246
         ],
         "yaxis": "y4"
        },
        {
         "alignmentgroup": "True",
         "hovertemplate": "Lighting=day<br>Metric=Male Acc<br>Model=%{x}<br>Value=%{y}<extra></extra>",
         "legendgroup": "day",
         "marker": {
          "color": "#EF553B",
          "pattern": {
           "shape": ""
          }
         },
         "name": "day",
         "offsetgroup": "day",
         "orientation": "v",
         "showlegend": true,
         "textposition": "auto",
         "type": "bar",
         "x": [
          "vit_base_patch16_224",
          "mobilenetv2_100",
          "efficientnet_b4",
          "inception_v3",
          "resnet50",
          "densenet121",
          "xception",
          "efficientnet_b0",
          "inception_resnet_v2"
         ],
         "xaxis": "x",
         "y": [
          0.803636372089386,
          0.9338181614875792,
          0.8461818099021912,
          0.6716363430023193,
          0.8858181834220886,
          0.6774545311927795,
          0.8505454659461975,
          0.8934545516967773,
          0.8334545493125916
         ],
         "yaxis": "y"
        },
        {
         "alignmentgroup": "True",
         "hovertemplate": "Lighting=day<br>Metric=Female Acc<br>Model=%{x}<br>Value=%{y}<extra></extra>",
         "legendgroup": "day",
         "marker": {
          "color": "#EF553B",
          "pattern": {
           "shape": ""
          }
         },
         "name": "day",
         "offsetgroup": "day",
         "orientation": "v",
         "showlegend": false,
         "textposition": "auto",
         "type": "bar",
         "x": [
          "vit_base_patch16_224",
          "mobilenetv2_100",
          "efficientnet_b4",
          "inception_v3",
          "resnet50",
          "densenet121",
          "xception",
          "efficientnet_b0",
          "inception_resnet_v2"
         ],
         "xaxis": "x2",
         "y": [
          0.7211018204689026,
          0.5322183966636658,
          0.7432366013526917,
          0.8027545213699341,
          0.6458435654640198,
          0.8307919502258301,
          0.7442203760147095,
          0.644859790802002,
          0.7132316827774048
         ],
         "yaxis": "y2"
        },
        {
         "alignmentgroup": "True",
         "hovertemplate": "Lighting=day<br>Metric=Avg Acc<br>Model=%{x}<br>Value=%{y}<extra></extra>",
         "legendgroup": "day",
         "marker": {
          "color": "#EF553B",
          "pattern": {
           "shape": ""
          }
         },
         "name": "day",
         "offsetgroup": "day",
         "orientation": "v",
         "showlegend": false,
         "textposition": "auto",
         "type": "bar",
         "x": [
          "vit_base_patch16_224",
          "mobilenetv2_100",
          "efficientnet_b4",
          "inception_v3",
          "resnet50",
          "densenet121",
          "xception",
          "efficientnet_b0",
          "inception_resnet_v2"
         ],
         "xaxis": "x3",
         "y": [
          0.7685552835464478,
          0.7631193995475769,
          0.8024252653121948,
          0.7273677587509155,
          0.783817708492279,
          0.742630124092102,
          0.8053522706031799,
          0.7877901196479797,
          0.7823541760444641
         ],
         "yaxis": "y3"
        },
        {
         "alignmentgroup": "True",
         "hovertemplate": "Lighting=day<br>Metric=MCC<br>Model=%{x}<br>Value=%{y}<extra></extra>",
         "legendgroup": "day",
         "marker": {
          "color": "#EF553B",
          "pattern": {
           "shape": ""
          }
         },
         "name": "day",
         "offsetgroup": "day",
         "orientation": "v",
         "showlegend": false,
         "textposition": "auto",
         "type": "bar",
         "x": [
          "vit_base_patch16_224",
          "mobilenetv2_100",
          "efficientnet_b4",
          "inception_v3",
          "resnet50",
          "densenet121",
          "xception",
          "efficientnet_b0",
          "inception_resnet_v2"
         ],
         "xaxis": "x4",
         "y": [
          0.5256834626197815,
          0.522482693195343,
          0.5937235951423645,
          0.4698771238327026,
          0.5547640323638916,
          0.5040056109428406,
          0.5996135473251343,
          0.5636682510375977,
          0.5519059896469116
         ],
         "yaxis": "y4"
        },
        {
         "alignmentgroup": "True",
         "hovertemplate": "Lighting=office<br>Metric=Male Acc<br>Model=%{x}<br>Value=%{y}<extra></extra>",
         "legendgroup": "office",
         "marker": {
          "color": "#00cc96",
          "pattern": {
           "shape": ""
          }
         },
         "name": "office",
         "offsetgroup": "office",
         "orientation": "v",
         "showlegend": true,
         "textposition": "auto",
         "type": "bar",
         "x": [
          "xception",
          "inception_v3",
          "mobilenetv2_100",
          "resnet50",
          "efficientnet_b4",
          "densenet121",
          "vit_base_patch16_224",
          "efficientnet_b0",
          "inception_resnet_v2"
         ],
         "xaxis": "x",
         "y": [
          0.7934545278549194,
          0.851272702217102,
          0.8029090762138367,
          0.9490908980369568,
          0.7112727165222168,
          0.7763636112213135,
          0.6636363863945007,
          0.843999981880188,
          0.9163636565208436
         ],
         "yaxis": "y"
        },
        {
         "alignmentgroup": "True",
         "hovertemplate": "Lighting=office<br>Metric=Female Acc<br>Model=%{x}<br>Value=%{y}<extra></extra>",
         "legendgroup": "office",
         "marker": {
          "color": "#00cc96",
          "pattern": {
           "shape": ""
          }
         },
         "name": "office",
         "offsetgroup": "office",
         "orientation": "v",
         "showlegend": false,
         "textposition": "auto",
         "type": "bar",
         "x": [
          "xception",
          "inception_v3",
          "mobilenetv2_100",
          "resnet50",
          "efficientnet_b4",
          "densenet121",
          "vit_base_patch16_224",
          "efficientnet_b0",
          "inception_resnet_v2"
         ],
         "xaxis": "x2",
         "y": [
          0.805213987827301,
          0.737825870513916,
          0.7840629816055298,
          0.5873094201087952,
          0.8593211770057678,
          0.8116084337234497,
          0.8484997749328613,
          0.7619282007217407,
          0.6645351648330688
         ],
         "yaxis": "y2"
        },
        {
         "alignmentgroup": "True",
         "hovertemplate": "Lighting=office<br>Metric=Avg Acc<br>Model=%{x}<br>Value=%{y}<extra></extra>",
         "legendgroup": "office",
         "marker": {
          "color": "#00cc96",
          "pattern": {
           "shape": ""
          }
         },
         "name": "office",
         "offsetgroup": "office",
         "orientation": "v",
         "showlegend": false,
         "textposition": "auto",
         "type": "bar",
         "x": [
          "xception",
          "inception_v3",
          "mobilenetv2_100",
          "resnet50",
          "efficientnet_b4",
          "densenet121",
          "vit_base_patch16_224",
          "efficientnet_b0",
          "inception_resnet_v2"
         ],
         "xaxis": "x3",
         "y": [
          0.7984528541564941,
          0.8030524849891663,
          0.7948985695838928,
          0.795316755771637,
          0.7742003202438354,
          0.7913443446159363,
          0.7422119975090027,
          0.8091155886650085,
          0.8093246817588806
         ],
         "yaxis": "y3"
        },
        {
         "alignmentgroup": "True",
         "hovertemplate": "Lighting=office<br>Metric=MCC<br>Model=%{x}<br>Value=%{y}<extra></extra>",
         "legendgroup": "office",
         "marker": {
          "color": "#00cc96",
          "pattern": {
           "shape": ""
          }
         },
         "name": "office",
         "offsetgroup": "office",
         "orientation": "v",
         "showlegend": false,
         "textposition": "auto",
         "type": "bar",
         "x": [
          "xception",
          "inception_v3",
          "mobilenetv2_100",
          "resnet50",
          "efficientnet_b4",
          "densenet121",
          "vit_base_patch16_224",
          "efficientnet_b0",
          "inception_resnet_v2"
         ],
         "xaxis": "x4",
         "y": [
          0.593711793422699,
          0.5946710705757141,
          0.5836801528930664,
          0.591288685798645,
          0.565251886844635,
          0.582143247127533,
          0.5093333125114441,
          0.6082423329353333,
          0.6104623675346375
         ],
         "yaxis": "y4"
        }
       ],
       "layout": {
        "annotations": [
         {
          "font": {},
          "showarrow": false,
          "text": "Metric=Male Acc",
          "x": 0.1175,
          "xanchor": "center",
          "xref": "paper",
          "y": 1,
          "yanchor": "bottom",
          "yref": "paper"
         },
         {
          "font": {},
          "showarrow": false,
          "text": "Metric=Female Acc",
          "x": 0.3725,
          "xanchor": "center",
          "xref": "paper",
          "y": 1,
          "yanchor": "bottom",
          "yref": "paper"
         },
         {
          "font": {},
          "showarrow": false,
          "text": "Metric=Avg Acc",
          "x": 0.6275,
          "xanchor": "center",
          "xref": "paper",
          "y": 1,
          "yanchor": "bottom",
          "yref": "paper"
         },
         {
          "font": {},
          "showarrow": false,
          "text": "Metric=MCC",
          "x": 0.8824999999999998,
          "xanchor": "center",
          "xref": "paper",
          "y": 1,
          "yanchor": "bottom",
          "yref": "paper"
         }
        ],
        "barmode": "group",
        "height": 400,
        "legend": {
         "title": {
          "text": "Lighting"
         },
         "tracegroupgap": 0
        },
        "template": {
         "data": {
          "bar": [
           {
            "error_x": {
             "color": "#2a3f5f"
            },
            "error_y": {
             "color": "#2a3f5f"
            },
            "marker": {
             "line": {
              "color": "#E5ECF6",
              "width": 0.5
             },
             "pattern": {
              "fillmode": "overlay",
              "size": 10,
              "solidity": 0.2
             }
            },
            "type": "bar"
           }
          ],
          "barpolar": [
           {
            "marker": {
             "line": {
              "color": "#E5ECF6",
              "width": 0.5
             },
             "pattern": {
              "fillmode": "overlay",
              "size": 10,
              "solidity": 0.2
             }
            },
            "type": "barpolar"
           }
          ],
          "carpet": [
           {
            "aaxis": {
             "endlinecolor": "#2a3f5f",
             "gridcolor": "white",
             "linecolor": "white",
             "minorgridcolor": "white",
             "startlinecolor": "#2a3f5f"
            },
            "baxis": {
             "endlinecolor": "#2a3f5f",
             "gridcolor": "white",
             "linecolor": "white",
             "minorgridcolor": "white",
             "startlinecolor": "#2a3f5f"
            },
            "type": "carpet"
           }
          ],
          "choropleth": [
           {
            "colorbar": {
             "outlinewidth": 0,
             "ticks": ""
            },
            "type": "choropleth"
           }
          ],
          "contour": [
           {
            "colorbar": {
             "outlinewidth": 0,
             "ticks": ""
            },
            "colorscale": [
             [
              0,
              "#0d0887"
             ],
             [
              0.1111111111111111,
              "#46039f"
             ],
             [
              0.2222222222222222,
              "#7201a8"
             ],
             [
              0.3333333333333333,
              "#9c179e"
             ],
             [
              0.4444444444444444,
              "#bd3786"
             ],
             [
              0.5555555555555556,
              "#d8576b"
             ],
             [
              0.6666666666666666,
              "#ed7953"
             ],
             [
              0.7777777777777778,
              "#fb9f3a"
             ],
             [
              0.8888888888888888,
              "#fdca26"
             ],
             [
              1,
              "#f0f921"
             ]
            ],
            "type": "contour"
           }
          ],
          "contourcarpet": [
           {
            "colorbar": {
             "outlinewidth": 0,
             "ticks": ""
            },
            "type": "contourcarpet"
           }
          ],
          "heatmap": [
           {
            "colorbar": {
             "outlinewidth": 0,
             "ticks": ""
            },
            "colorscale": [
             [
              0,
              "#0d0887"
             ],
             [
              0.1111111111111111,
              "#46039f"
             ],
             [
              0.2222222222222222,
              "#7201a8"
             ],
             [
              0.3333333333333333,
              "#9c179e"
             ],
             [
              0.4444444444444444,
              "#bd3786"
             ],
             [
              0.5555555555555556,
              "#d8576b"
             ],
             [
              0.6666666666666666,
              "#ed7953"
             ],
             [
              0.7777777777777778,
              "#fb9f3a"
             ],
             [
              0.8888888888888888,
              "#fdca26"
             ],
             [
              1,
              "#f0f921"
             ]
            ],
            "type": "heatmap"
           }
          ],
          "heatmapgl": [
           {
            "colorbar": {
             "outlinewidth": 0,
             "ticks": ""
            },
            "colorscale": [
             [
              0,
              "#0d0887"
             ],
             [
              0.1111111111111111,
              "#46039f"
             ],
             [
              0.2222222222222222,
              "#7201a8"
             ],
             [
              0.3333333333333333,
              "#9c179e"
             ],
             [
              0.4444444444444444,
              "#bd3786"
             ],
             [
              0.5555555555555556,
              "#d8576b"
             ],
             [
              0.6666666666666666,
              "#ed7953"
             ],
             [
              0.7777777777777778,
              "#fb9f3a"
             ],
             [
              0.8888888888888888,
              "#fdca26"
             ],
             [
              1,
              "#f0f921"
             ]
            ],
            "type": "heatmapgl"
           }
          ],
          "histogram": [
           {
            "marker": {
             "pattern": {
              "fillmode": "overlay",
              "size": 10,
              "solidity": 0.2
             }
            },
            "type": "histogram"
           }
          ],
          "histogram2d": [
           {
            "colorbar": {
             "outlinewidth": 0,
             "ticks": ""
            },
            "colorscale": [
             [
              0,
              "#0d0887"
             ],
             [
              0.1111111111111111,
              "#46039f"
             ],
             [
              0.2222222222222222,
              "#7201a8"
             ],
             [
              0.3333333333333333,
              "#9c179e"
             ],
             [
              0.4444444444444444,
              "#bd3786"
             ],
             [
              0.5555555555555556,
              "#d8576b"
             ],
             [
              0.6666666666666666,
              "#ed7953"
             ],
             [
              0.7777777777777778,
              "#fb9f3a"
             ],
             [
              0.8888888888888888,
              "#fdca26"
             ],
             [
              1,
              "#f0f921"
             ]
            ],
            "type": "histogram2d"
           }
          ],
          "histogram2dcontour": [
           {
            "colorbar": {
             "outlinewidth": 0,
             "ticks": ""
            },
            "colorscale": [
             [
              0,
              "#0d0887"
             ],
             [
              0.1111111111111111,
              "#46039f"
             ],
             [
              0.2222222222222222,
              "#7201a8"
             ],
             [
              0.3333333333333333,
              "#9c179e"
             ],
             [
              0.4444444444444444,
              "#bd3786"
             ],
             [
              0.5555555555555556,
              "#d8576b"
             ],
             [
              0.6666666666666666,
              "#ed7953"
             ],
             [
              0.7777777777777778,
              "#fb9f3a"
             ],
             [
              0.8888888888888888,
              "#fdca26"
             ],
             [
              1,
              "#f0f921"
             ]
            ],
            "type": "histogram2dcontour"
           }
          ],
          "mesh3d": [
           {
            "colorbar": {
             "outlinewidth": 0,
             "ticks": ""
            },
            "type": "mesh3d"
           }
          ],
          "parcoords": [
           {
            "line": {
             "colorbar": {
              "outlinewidth": 0,
              "ticks": ""
             }
            },
            "type": "parcoords"
           }
          ],
          "pie": [
           {
            "automargin": true,
            "type": "pie"
           }
          ],
          "scatter": [
           {
            "fillpattern": {
             "fillmode": "overlay",
             "size": 10,
             "solidity": 0.2
            },
            "type": "scatter"
           }
          ],
          "scatter3d": [
           {
            "line": {
             "colorbar": {
              "outlinewidth": 0,
              "ticks": ""
             }
            },
            "marker": {
             "colorbar": {
              "outlinewidth": 0,
              "ticks": ""
             }
            },
            "type": "scatter3d"
           }
          ],
          "scattercarpet": [
           {
            "marker": {
             "colorbar": {
              "outlinewidth": 0,
              "ticks": ""
             }
            },
            "type": "scattercarpet"
           }
          ],
          "scattergeo": [
           {
            "marker": {
             "colorbar": {
              "outlinewidth": 0,
              "ticks": ""
             }
            },
            "type": "scattergeo"
           }
          ],
          "scattergl": [
           {
            "marker": {
             "colorbar": {
              "outlinewidth": 0,
              "ticks": ""
             }
            },
            "type": "scattergl"
           }
          ],
          "scattermapbox": [
           {
            "marker": {
             "colorbar": {
              "outlinewidth": 0,
              "ticks": ""
             }
            },
            "type": "scattermapbox"
           }
          ],
          "scatterpolar": [
           {
            "marker": {
             "colorbar": {
              "outlinewidth": 0,
              "ticks": ""
             }
            },
            "type": "scatterpolar"
           }
          ],
          "scatterpolargl": [
           {
            "marker": {
             "colorbar": {
              "outlinewidth": 0,
              "ticks": ""
             }
            },
            "type": "scatterpolargl"
           }
          ],
          "scatterternary": [
           {
            "marker": {
             "colorbar": {
              "outlinewidth": 0,
              "ticks": ""
             }
            },
            "type": "scatterternary"
           }
          ],
          "surface": [
           {
            "colorbar": {
             "outlinewidth": 0,
             "ticks": ""
            },
            "colorscale": [
             [
              0,
              "#0d0887"
             ],
             [
              0.1111111111111111,
              "#46039f"
             ],
             [
              0.2222222222222222,
              "#7201a8"
             ],
             [
              0.3333333333333333,
              "#9c179e"
             ],
             [
              0.4444444444444444,
              "#bd3786"
             ],
             [
              0.5555555555555556,
              "#d8576b"
             ],
             [
              0.6666666666666666,
              "#ed7953"
             ],
             [
              0.7777777777777778,
              "#fb9f3a"
             ],
             [
              0.8888888888888888,
              "#fdca26"
             ],
             [
              1,
              "#f0f921"
             ]
            ],
            "type": "surface"
           }
          ],
          "table": [
           {
            "cells": {
             "fill": {
              "color": "#EBF0F8"
             },
             "line": {
              "color": "white"
             }
            },
            "header": {
             "fill": {
              "color": "#C8D4E3"
             },
             "line": {
              "color": "white"
             }
            },
            "type": "table"
           }
          ]
         },
         "layout": {
          "annotationdefaults": {
           "arrowcolor": "#2a3f5f",
           "arrowhead": 0,
           "arrowwidth": 1
          },
          "autotypenumbers": "strict",
          "coloraxis": {
           "colorbar": {
            "outlinewidth": 0,
            "ticks": ""
           }
          },
          "colorscale": {
           "diverging": [
            [
             0,
             "#8e0152"
            ],
            [
             0.1,
             "#c51b7d"
            ],
            [
             0.2,
             "#de77ae"
            ],
            [
             0.3,
             "#f1b6da"
            ],
            [
             0.4,
             "#fde0ef"
            ],
            [
             0.5,
             "#f7f7f7"
            ],
            [
             0.6,
             "#e6f5d0"
            ],
            [
             0.7,
             "#b8e186"
            ],
            [
             0.8,
             "#7fbc41"
            ],
            [
             0.9,
             "#4d9221"
            ],
            [
             1,
             "#276419"
            ]
           ],
           "sequential": [
            [
             0,
             "#0d0887"
            ],
            [
             0.1111111111111111,
             "#46039f"
            ],
            [
             0.2222222222222222,
             "#7201a8"
            ],
            [
             0.3333333333333333,
             "#9c179e"
            ],
            [
             0.4444444444444444,
             "#bd3786"
            ],
            [
             0.5555555555555556,
             "#d8576b"
            ],
            [
             0.6666666666666666,
             "#ed7953"
            ],
            [
             0.7777777777777778,
             "#fb9f3a"
            ],
            [
             0.8888888888888888,
             "#fdca26"
            ],
            [
             1,
             "#f0f921"
            ]
           ],
           "sequentialminus": [
            [
             0,
             "#0d0887"
            ],
            [
             0.1111111111111111,
             "#46039f"
            ],
            [
             0.2222222222222222,
             "#7201a8"
            ],
            [
             0.3333333333333333,
             "#9c179e"
            ],
            [
             0.4444444444444444,
             "#bd3786"
            ],
            [
             0.5555555555555556,
             "#d8576b"
            ],
            [
             0.6666666666666666,
             "#ed7953"
            ],
            [
             0.7777777777777778,
             "#fb9f3a"
            ],
            [
             0.8888888888888888,
             "#fdca26"
            ],
            [
             1,
             "#f0f921"
            ]
           ]
          },
          "colorway": [
           "#636efa",
           "#EF553B",
           "#00cc96",
           "#ab63fa",
           "#FFA15A",
           "#19d3f3",
           "#FF6692",
           "#B6E880",
           "#FF97FF",
           "#FECB52"
          ],
          "font": {
           "color": "#2a3f5f"
          },
          "geo": {
           "bgcolor": "white",
           "lakecolor": "white",
           "landcolor": "#E5ECF6",
           "showlakes": true,
           "showland": true,
           "subunitcolor": "white"
          },
          "hoverlabel": {
           "align": "left"
          },
          "hovermode": "closest",
          "mapbox": {
           "style": "light"
          },
          "paper_bgcolor": "white",
          "plot_bgcolor": "#E5ECF6",
          "polar": {
           "angularaxis": {
            "gridcolor": "white",
            "linecolor": "white",
            "ticks": ""
           },
           "bgcolor": "#E5ECF6",
           "radialaxis": {
            "gridcolor": "white",
            "linecolor": "white",
            "ticks": ""
           }
          },
          "scene": {
           "xaxis": {
            "backgroundcolor": "#E5ECF6",
            "gridcolor": "white",
            "gridwidth": 2,
            "linecolor": "white",
            "showbackground": true,
            "ticks": "",
            "zerolinecolor": "white"
           },
           "yaxis": {
            "backgroundcolor": "#E5ECF6",
            "gridcolor": "white",
            "gridwidth": 2,
            "linecolor": "white",
            "showbackground": true,
            "ticks": "",
            "zerolinecolor": "white"
           },
           "zaxis": {
            "backgroundcolor": "#E5ECF6",
            "gridcolor": "white",
            "gridwidth": 2,
            "linecolor": "white",
            "showbackground": true,
            "ticks": "",
            "zerolinecolor": "white"
           }
          },
          "shapedefaults": {
           "line": {
            "color": "#2a3f5f"
           }
          },
          "ternary": {
           "aaxis": {
            "gridcolor": "white",
            "linecolor": "white",
            "ticks": ""
           },
           "baxis": {
            "gridcolor": "white",
            "linecolor": "white",
            "ticks": ""
           },
           "bgcolor": "#E5ECF6",
           "caxis": {
            "gridcolor": "white",
            "linecolor": "white",
            "ticks": ""
           }
          },
          "title": {
           "x": 0.05
          },
          "xaxis": {
           "automargin": true,
           "gridcolor": "white",
           "linecolor": "white",
           "ticks": "",
           "title": {
            "standoff": 15
           },
           "zerolinecolor": "white",
           "zerolinewidth": 2
          },
          "yaxis": {
           "automargin": true,
           "gridcolor": "white",
           "linecolor": "white",
           "ticks": "",
           "title": {
            "standoff": 15
           },
           "zerolinecolor": "white",
           "zerolinewidth": 2
          }
         }
        },
        "title": {
         "text": "Train : VISOB, Test : VISOB"
        },
        "width": 800,
        "xaxis": {
         "anchor": "y",
         "domain": [
          0,
          0.235
         ],
         "title": {
          "text": "Model"
         }
        },
        "xaxis2": {
         "anchor": "y2",
         "domain": [
          0.255,
          0.49
         ],
         "matches": "x",
         "title": {
          "text": "Model"
         }
        },
        "xaxis3": {
         "anchor": "y3",
         "domain": [
          0.51,
          0.745
         ],
         "matches": "x",
         "title": {
          "text": "Model"
         }
        },
        "xaxis4": {
         "anchor": "y4",
         "domain": [
          0.7649999999999999,
          0.9999999999999999
         ],
         "matches": "x",
         "title": {
          "text": "Model"
         }
        },
        "yaxis": {
         "anchor": "x",
         "domain": [
          0,
          1
         ],
         "title": {
          "text": "Value"
         }
        },
        "yaxis2": {
         "anchor": "x2",
         "domain": [
          0,
          1
         ],
         "matches": "y",
         "showticklabels": false
        },
        "yaxis3": {
         "anchor": "x3",
         "domain": [
          0,
          1
         ],
         "matches": "y",
         "showticklabels": false
        },
        "yaxis4": {
         "anchor": "x4",
         "domain": [
          0,
          1
         ],
         "matches": "y",
         "showticklabels": false
        }
       }
      }
     },
     "metadata": {},
     "output_type": "display_data"
    }
   ],
   "source": [
    "import plotly.express as px\n",
    "import pandas as pd\n",
    "from copy import deepcopy\n",
    "\n",
    "df = pd.read_csv('/home/sreeraj/Documents/nfs_final/final_eval/results/across_lighting_visob_gender.csv',)\n",
    "df['Lighting'] = df.Model.apply(lambda x:(x.split('_')[-1]))\n",
    "df.Model = df.Model.apply(lambda x: '_'.join(x.split('_')[:-1]))\n",
    "\n",
    "df_macc = deepcopy(df)\n",
    "df_macc['Value'] = df_macc['Male Acc']\n",
    "df_macc['Metric'] = 'Male Acc'\n",
    "\n",
    "df_facc = deepcopy(df)\n",
    "df_facc['Value'] = df_facc['Female Acc']\n",
    "df_facc['Metric'] = 'Female Acc'\n",
    "\n",
    "df_oacc = deepcopy(df)\n",
    "df_oacc['Value'] = df_facc['Avg Acc']\n",
    "df_oacc['Metric'] = 'Avg Acc'\n",
    "\n",
    "df_mcc = deepcopy(df)\n",
    "df_mcc['Value'] = df_facc['MCC']\n",
    "df_mcc['Metric'] = 'MCC'\n",
    "\n",
    "df = pd.concat([df_macc, df_facc, df_oacc, df_mcc])\n",
    "fig = px.bar(df, x='Model', y='Value', color='Lighting', title='Train : VISOB, Test : VISOB', barmode='group', labels={'value': 'Acc/MCC', 'variable': 'Metrics'},width=800, height=400, facet_col='Metric')\n",
    "fig.show()"
   ]
  }
 ],
 "metadata": {
  "kernelspec": {
   "display_name": "Python 3.8.13 ('base')",
   "language": "python",
   "name": "python3"
  },
  "language_info": {
   "codemirror_mode": {
    "name": "ipython",
    "version": 3
   },
   "file_extension": ".py",
   "mimetype": "text/x-python",
   "name": "python",
   "nbconvert_exporter": "python",
   "pygments_lexer": "ipython3",
   "version": "3.8.13"
  },
  "orig_nbformat": 4,
  "vscode": {
   "interpreter": {
    "hash": "76b0fc76f4e7781a1b16ee27840856c882773e6a0d6a2c9da2c6c8740670379e"
   }
  }
 },
 "nbformat": 4,
 "nbformat_minor": 2
}
