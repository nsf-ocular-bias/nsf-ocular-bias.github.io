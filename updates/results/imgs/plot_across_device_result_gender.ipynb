{
 "cells": [
  {
   "cell_type": "code",
   "execution_count": 4,
   "metadata": {},
   "outputs": [
    {
     "data": {
      "application/vnd.plotly.v1+json": {
       "config": {
        "plotlyServerURL": "https://plot.ly"
       },
       "data": [
        {
         "alignmentgroup": "True",
         "hovertemplate": "Device=samsung<br>Metric=Male Acc<br>Model=%{x}<br>Value=%{y}<extra></extra>",
         "legendgroup": "samsung",
         "marker": {
          "color": "#636efa",
          "pattern": {
           "shape": ""
          }
         },
         "name": "samsung",
         "offsetgroup": "samsung",
         "orientation": "v",
         "showlegend": true,
         "textposition": "auto",
         "type": "bar",
         "x": [
          "xception",
          "mobilenetv2_100",
          "efficientnet_b0",
          "densenet121",
          "inception_resnet_v2",
          "efficientnet_b4",
          "inception_v3",
          "vit_base_patch16_224",
          "resnet50"
         ],
         "xaxis": "x",
         "y": [
          0.8381817936897278,
          0.609818160533905,
          0.8490909337997437,
          0.6763636469841003,
          0.3556363582611084,
          0.7589091062545776,
          0.7203636169433594,
          0.5443636178970337,
          0.5134545564651489
         ],
         "yaxis": "y"
        },
        {
         "alignmentgroup": "True",
         "hovertemplate": "Device=samsung<br>Metric=Female Acc<br>Model=%{x}<br>Value=%{y}<extra></extra>",
         "legendgroup": "samsung",
         "marker": {
          "color": "#636efa",
          "pattern": {
           "shape": ""
          }
         },
         "name": "samsung",
         "offsetgroup": "samsung",
         "orientation": "v",
         "showlegend": false,
         "textposition": "auto",
         "type": "bar",
         "x": [
          "xception",
          "mobilenetv2_100",
          "efficientnet_b0",
          "densenet121",
          "inception_resnet_v2",
          "efficientnet_b4",
          "inception_v3",
          "vit_base_patch16_224",
          "resnet50"
         ],
         "xaxis": "x2",
         "y": [
          0.7452041506767273,
          0.8662075996398926,
          0.7422528266906738,
          0.8435809016227722,
          0.9611411690711976,
          0.7820954322814941,
          0.8032464385032654,
          0.9055582880973816,
          0.935071349143982
         ],
         "yaxis": "y2"
        },
        {
         "alignmentgroup": "True",
         "hovertemplate": "Device=samsung<br>Metric=Avg Acc<br>Model=%{x}<br>Value=%{y}<extra></extra>",
         "legendgroup": "samsung",
         "marker": {
          "color": "#636efa",
          "pattern": {
           "shape": ""
          }
         },
         "name": "samsung",
         "offsetgroup": "samsung",
         "orientation": "v",
         "showlegend": false,
         "textposition": "auto",
         "type": "bar",
         "x": [
          "xception",
          "mobilenetv2_100",
          "efficientnet_b0",
          "densenet121",
          "inception_resnet_v2",
          "efficientnet_b4",
          "inception_v3",
          "vit_base_patch16_224",
          "resnet50"
         ],
         "xaxis": "x3",
         "y": [
          0.7986619472503662,
          0.7187957167625427,
          0.8036797046661377,
          0.7474388480186462,
          0.6130043864250183,
          0.7687643766403198,
          0.7555927038192749,
          0.6978883743286133,
          0.6926615238189697
         ],
         "yaxis": "y3"
        },
        {
         "alignmentgroup": "True",
         "hovertemplate": "Device=samsung<br>Metric=MCC<br>Model=%{x}<br>Value=%{y}<extra></extra>",
         "legendgroup": "samsung",
         "marker": {
          "color": "#636efa",
          "pattern": {
           "shape": ""
          }
         },
         "name": "samsung",
         "offsetgroup": "samsung",
         "orientation": "v",
         "showlegend": false,
         "textposition": "auto",
         "type": "bar",
         "x": [
          "xception",
          "mobilenetv2_100",
          "efficientnet_b0",
          "densenet121",
          "inception_resnet_v2",
          "efficientnet_b4",
          "inception_v3",
          "vit_base_patch16_224",
          "resnet50"
         ],
         "xaxis": "x4",
         "y": [
          0.5864183306694031,
          0.4789163768291473,
          0.5961635708808899,
          0.5161301493644714,
          0.3774248957633972,
          0.5357906818389893,
          0.5176984667778015,
          0.465368777513504,
          0.4742348194122314
         ],
         "yaxis": "y4"
        },
        {
         "alignmentgroup": "True",
         "hovertemplate": "Device=iphone<br>Metric=Male Acc<br>Model=%{x}<br>Value=%{y}<extra></extra>",
         "legendgroup": "iphone",
         "marker": {
          "color": "#EF553B",
          "pattern": {
           "shape": ""
          }
         },
         "name": "iphone",
         "offsetgroup": "iphone",
         "orientation": "v",
         "showlegend": true,
         "textposition": "auto",
         "type": "bar",
         "x": [
          "efficientnet_b4",
          "resnet50",
          "inception_v3",
          "vit_base_patch16_224",
          "efficientnet_b0",
          "mobilenetv2_100",
          "xception",
          "densenet121",
          "inception_resnet_v2"
         ],
         "xaxis": "x",
         "y": [
          0.7360000014305115,
          0.652363657951355,
          0.754909098148346,
          0.492000013589859,
          0.8159999847412109,
          0.6981818079948425,
          0.7352727055549622,
          0.8007272481918335,
          0.8810908794403076
         ],
         "yaxis": "y"
        },
        {
         "alignmentgroup": "True",
         "hovertemplate": "Device=iphone<br>Metric=Female Acc<br>Model=%{x}<br>Value=%{y}<extra></extra>",
         "legendgroup": "iphone",
         "marker": {
          "color": "#EF553B",
          "pattern": {
           "shape": ""
          }
         },
         "name": "iphone",
         "offsetgroup": "iphone",
         "orientation": "v",
         "showlegend": false,
         "textposition": "auto",
         "type": "bar",
         "x": [
          "efficientnet_b4",
          "resnet50",
          "inception_v3",
          "vit_base_patch16_224",
          "efficientnet_b0",
          "mobilenetv2_100",
          "xception",
          "densenet121",
          "inception_resnet_v2"
         ],
         "xaxis": "x2",
         "y": [
          0.8076733946800232,
          0.8455484509468079,
          0.7206099629402161,
          0.8819478750228882,
          0.7279881834983826,
          0.8165273070335388,
          0.8027545213699341,
          0.737825870513916,
          0.6571568846702576
         ],
         "yaxis": "y2"
        },
        {
         "alignmentgroup": "True",
         "hovertemplate": "Device=iphone<br>Metric=Avg Acc<br>Model=%{x}<br>Value=%{y}<extra></extra>",
         "legendgroup": "iphone",
         "marker": {
          "color": "#EF553B",
          "pattern": {
           "shape": ""
          }
         },
         "name": "iphone",
         "offsetgroup": "iphone",
         "orientation": "v",
         "showlegend": false,
         "textposition": "auto",
         "type": "bar",
         "x": [
          "efficientnet_b4",
          "resnet50",
          "inception_v3",
          "vit_base_patch16_224",
          "efficientnet_b0",
          "mobilenetv2_100",
          "xception",
          "densenet121",
          "inception_resnet_v2"
         ],
         "xaxis": "x3",
         "y": [
          0.7664645910263062,
          0.7344762682914734,
          0.7403303384780884,
          0.6577461957931519,
          0.7785908579826355,
          0.748484194278717,
          0.7639556527137756,
          0.7739912271499634,
          0.7859084010124207
         ],
         "yaxis": "y3"
        },
        {
         "alignmentgroup": "True",
         "hovertemplate": "Device=iphone<br>Metric=MCC<br>Model=%{x}<br>Value=%{y}<extra></extra>",
         "legendgroup": "iphone",
         "marker": {
          "color": "#EF553B",
          "pattern": {
           "shape": ""
          }
         },
         "name": "iphone",
         "offsetgroup": "iphone",
         "orientation": "v",
         "showlegend": false,
         "textposition": "auto",
         "type": "bar",
         "x": [
          "efficientnet_b4",
          "resnet50",
          "inception_v3",
          "vit_base_patch16_224",
          "efficientnet_b0",
          "mobilenetv2_100",
          "xception",
          "densenet121",
          "inception_resnet_v2"
         ],
         "xaxis": "x4",
         "y": [
          0.5375560522079468,
          0.4957818388938904,
          0.4727885723114013,
          0.3922319114208221,
          0.5457436442375183,
          0.5093253254890442,
          0.5319939255714417,
          0.5380467176437378,
          0.5587195754051208
         ],
         "yaxis": "y4"
        },
        {
         "alignmentgroup": "True",
         "hovertemplate": "Device=oppo<br>Metric=Male Acc<br>Model=%{x}<br>Value=%{y}<extra></extra>",
         "legendgroup": "oppo",
         "marker": {
          "color": "#00cc96",
          "pattern": {
           "shape": ""
          }
         },
         "name": "oppo",
         "offsetgroup": "oppo",
         "orientation": "v",
         "showlegend": true,
         "textposition": "auto",
         "type": "bar",
         "x": [
          "mobilenetv2_100",
          "xception",
          "vit_base_patch16_224",
          "efficientnet_b4",
          "resnet50",
          "inception_v3",
          "densenet121",
          "efficientnet_b0",
          "inception_resnet_v2"
         ],
         "xaxis": "x",
         "y": [
          0.7752727270126343,
          0.8538181781768799,
          0.758545458316803,
          0.8894545435905457,
          0.7498182058334351,
          0.7876363396644592,
          0.8792726993560791,
          0.7276363372802734,
          0.8810908794403076
         ],
         "yaxis": "y"
        },
        {
         "alignmentgroup": "True",
         "hovertemplate": "Device=oppo<br>Metric=Female Acc<br>Model=%{x}<br>Value=%{y}<extra></extra>",
         "legendgroup": "oppo",
         "marker": {
          "color": "#00cc96",
          "pattern": {
           "shape": ""
          }
         },
         "name": "oppo",
         "offsetgroup": "oppo",
         "orientation": "v",
         "showlegend": false,
         "textposition": "auto",
         "type": "bar",
         "x": [
          "mobilenetv2_100",
          "xception",
          "vit_base_patch16_224",
          "efficientnet_b4",
          "resnet50",
          "inception_v3",
          "densenet121",
          "efficientnet_b0",
          "inception_resnet_v2"
         ],
         "xaxis": "x2",
         "y": [
          0.7329070568084717,
          0.7619282007217407,
          0.7973438501358032,
          0.7924249768257141,
          0.8199704885482788,
          0.7432366013526917,
          0.7225774526596069,
          0.8519429564476013,
          0.7333989143371582
         ],
         "yaxis": "y2"
        },
        {
         "alignmentgroup": "True",
         "hovertemplate": "Device=oppo<br>Metric=Avg Acc<br>Model=%{x}<br>Value=%{y}<extra></extra>",
         "legendgroup": "oppo",
         "marker": {
          "color": "#00cc96",
          "pattern": {
           "shape": ""
          }
         },
         "name": "oppo",
         "offsetgroup": "oppo",
         "orientation": "v",
         "showlegend": false,
         "textposition": "auto",
         "type": "bar",
         "x": [
          "mobilenetv2_100",
          "xception",
          "vit_base_patch16_224",
          "efficientnet_b4",
          "resnet50",
          "inception_v3",
          "densenet121",
          "efficientnet_b0",
          "inception_resnet_v2"
         ],
         "xaxis": "x3",
         "y": [
          0.7572653293609619,
          0.8147606253623962,
          0.7750365734100342,
          0.8482124209403992,
          0.7796362042427063,
          0.7687643766403198,
          0.8126698732376099,
          0.7804725170135498,
          0.8183148503303528
         ],
         "yaxis": "y3"
        },
        {
         "alignmentgroup": "True",
         "hovertemplate": "Device=oppo<br>Metric=MCC<br>Model=%{x}<br>Value=%{y}<extra></extra>",
         "legendgroup": "oppo",
         "marker": {
          "color": "#00cc96",
          "pattern": {
           "shape": ""
          }
         },
         "name": "oppo",
         "offsetgroup": "oppo",
         "orientation": "v",
         "showlegend": false,
         "textposition": "auto",
         "type": "bar",
         "x": [
          "mobilenetv2_100",
          "xception",
          "vit_base_patch16_224",
          "efficientnet_b4",
          "resnet50",
          "inception_v3",
          "densenet121",
          "efficientnet_b0",
          "inception_resnet_v2"
         ],
         "xaxis": "x4",
         "y": [
          0.5060055255889893,
          0.6193864941596985,
          0.5501536130905151,
          0.687968909740448,
          0.5634159445762634,
          0.5289554595947266,
          0.6140627264976501,
          0.5734320878982544,
          0.6258070468902588
         ],
         "yaxis": "y4"
        }
       ],
       "layout": {
        "annotations": [
         {
          "font": {},
          "showarrow": false,
          "text": "Metric=Male Acc",
          "x": 0.1175,
          "xanchor": "center",
          "xref": "paper",
          "y": 1,
          "yanchor": "bottom",
          "yref": "paper"
         },
         {
          "font": {},
          "showarrow": false,
          "text": "Metric=Female Acc",
          "x": 0.3725,
          "xanchor": "center",
          "xref": "paper",
          "y": 1,
          "yanchor": "bottom",
          "yref": "paper"
         },
         {
          "font": {},
          "showarrow": false,
          "text": "Metric=Avg Acc",
          "x": 0.6275,
          "xanchor": "center",
          "xref": "paper",
          "y": 1,
          "yanchor": "bottom",
          "yref": "paper"
         },
         {
          "font": {},
          "showarrow": false,
          "text": "Metric=MCC",
          "x": 0.8824999999999998,
          "xanchor": "center",
          "xref": "paper",
          "y": 1,
          "yanchor": "bottom",
          "yref": "paper"
         }
        ],
        "barmode": "group",
        "height": 400,
        "legend": {
         "title": {
          "text": "Device"
         },
         "tracegroupgap": 0
        },
        "template": {
         "data": {
          "bar": [
           {
            "error_x": {
             "color": "#2a3f5f"
            },
            "error_y": {
             "color": "#2a3f5f"
            },
            "marker": {
             "line": {
              "color": "#E5ECF6",
              "width": 0.5
             },
             "pattern": {
              "fillmode": "overlay",
              "size": 10,
              "solidity": 0.2
             }
            },
            "type": "bar"
           }
          ],
          "barpolar": [
           {
            "marker": {
             "line": {
              "color": "#E5ECF6",
              "width": 0.5
             },
             "pattern": {
              "fillmode": "overlay",
              "size": 10,
              "solidity": 0.2
             }
            },
            "type": "barpolar"
           }
          ],
          "carpet": [
           {
            "aaxis": {
             "endlinecolor": "#2a3f5f",
             "gridcolor": "white",
             "linecolor": "white",
             "minorgridcolor": "white",
             "startlinecolor": "#2a3f5f"
            },
            "baxis": {
             "endlinecolor": "#2a3f5f",
             "gridcolor": "white",
             "linecolor": "white",
             "minorgridcolor": "white",
             "startlinecolor": "#2a3f5f"
            },
            "type": "carpet"
           }
          ],
          "choropleth": [
           {
            "colorbar": {
             "outlinewidth": 0,
             "ticks": ""
            },
            "type": "choropleth"
           }
          ],
          "contour": [
           {
            "colorbar": {
             "outlinewidth": 0,
             "ticks": ""
            },
            "colorscale": [
             [
              0,
              "#0d0887"
             ],
             [
              0.1111111111111111,
              "#46039f"
             ],
             [
              0.2222222222222222,
              "#7201a8"
             ],
             [
              0.3333333333333333,
              "#9c179e"
             ],
             [
              0.4444444444444444,
              "#bd3786"
             ],
             [
              0.5555555555555556,
              "#d8576b"
             ],
             [
              0.6666666666666666,
              "#ed7953"
             ],
             [
              0.7777777777777778,
              "#fb9f3a"
             ],
             [
              0.8888888888888888,
              "#fdca26"
             ],
             [
              1,
              "#f0f921"
             ]
            ],
            "type": "contour"
           }
          ],
          "contourcarpet": [
           {
            "colorbar": {
             "outlinewidth": 0,
             "ticks": ""
            },
            "type": "contourcarpet"
           }
          ],
          "heatmap": [
           {
            "colorbar": {
             "outlinewidth": 0,
             "ticks": ""
            },
            "colorscale": [
             [
              0,
              "#0d0887"
             ],
             [
              0.1111111111111111,
              "#46039f"
             ],
             [
              0.2222222222222222,
              "#7201a8"
             ],
             [
              0.3333333333333333,
              "#9c179e"
             ],
             [
              0.4444444444444444,
              "#bd3786"
             ],
             [
              0.5555555555555556,
              "#d8576b"
             ],
             [
              0.6666666666666666,
              "#ed7953"
             ],
             [
              0.7777777777777778,
              "#fb9f3a"
             ],
             [
              0.8888888888888888,
              "#fdca26"
             ],
             [
              1,
              "#f0f921"
             ]
            ],
            "type": "heatmap"
           }
          ],
          "heatmapgl": [
           {
            "colorbar": {
             "outlinewidth": 0,
             "ticks": ""
            },
            "colorscale": [
             [
              0,
              "#0d0887"
             ],
             [
              0.1111111111111111,
              "#46039f"
             ],
             [
              0.2222222222222222,
              "#7201a8"
             ],
             [
              0.3333333333333333,
              "#9c179e"
             ],
             [
              0.4444444444444444,
              "#bd3786"
             ],
             [
              0.5555555555555556,
              "#d8576b"
             ],
             [
              0.6666666666666666,
              "#ed7953"
             ],
             [
              0.7777777777777778,
              "#fb9f3a"
             ],
             [
              0.8888888888888888,
              "#fdca26"
             ],
             [
              1,
              "#f0f921"
             ]
            ],
            "type": "heatmapgl"
           }
          ],
          "histogram": [
           {
            "marker": {
             "pattern": {
              "fillmode": "overlay",
              "size": 10,
              "solidity": 0.2
             }
            },
            "type": "histogram"
           }
          ],
          "histogram2d": [
           {
            "colorbar": {
             "outlinewidth": 0,
             "ticks": ""
            },
            "colorscale": [
             [
              0,
              "#0d0887"
             ],
             [
              0.1111111111111111,
              "#46039f"
             ],
             [
              0.2222222222222222,
              "#7201a8"
             ],
             [
              0.3333333333333333,
              "#9c179e"
             ],
             [
              0.4444444444444444,
              "#bd3786"
             ],
             [
              0.5555555555555556,
              "#d8576b"
             ],
             [
              0.6666666666666666,
              "#ed7953"
             ],
             [
              0.7777777777777778,
              "#fb9f3a"
             ],
             [
              0.8888888888888888,
              "#fdca26"
             ],
             [
              1,
              "#f0f921"
             ]
            ],
            "type": "histogram2d"
           }
          ],
          "histogram2dcontour": [
           {
            "colorbar": {
             "outlinewidth": 0,
             "ticks": ""
            },
            "colorscale": [
             [
              0,
              "#0d0887"
             ],
             [
              0.1111111111111111,
              "#46039f"
             ],
             [
              0.2222222222222222,
              "#7201a8"
             ],
             [
              0.3333333333333333,
              "#9c179e"
             ],
             [
              0.4444444444444444,
              "#bd3786"
             ],
             [
              0.5555555555555556,
              "#d8576b"
             ],
             [
              0.6666666666666666,
              "#ed7953"
             ],
             [
              0.7777777777777778,
              "#fb9f3a"
             ],
             [
              0.8888888888888888,
              "#fdca26"
             ],
             [
              1,
              "#f0f921"
             ]
            ],
            "type": "histogram2dcontour"
           }
          ],
          "mesh3d": [
           {
            "colorbar": {
             "outlinewidth": 0,
             "ticks": ""
            },
            "type": "mesh3d"
           }
          ],
          "parcoords": [
           {
            "line": {
             "colorbar": {
              "outlinewidth": 0,
              "ticks": ""
             }
            },
            "type": "parcoords"
           }
          ],
          "pie": [
           {
            "automargin": true,
            "type": "pie"
           }
          ],
          "scatter": [
           {
            "fillpattern": {
             "fillmode": "overlay",
             "size": 10,
             "solidity": 0.2
            },
            "type": "scatter"
           }
          ],
          "scatter3d": [
           {
            "line": {
             "colorbar": {
              "outlinewidth": 0,
              "ticks": ""
             }
            },
            "marker": {
             "colorbar": {
              "outlinewidth": 0,
              "ticks": ""
             }
            },
            "type": "scatter3d"
           }
          ],
          "scattercarpet": [
           {
            "marker": {
             "colorbar": {
              "outlinewidth": 0,
              "ticks": ""
             }
            },
            "type": "scattercarpet"
           }
          ],
          "scattergeo": [
           {
            "marker": {
             "colorbar": {
              "outlinewidth": 0,
              "ticks": ""
             }
            },
            "type": "scattergeo"
           }
          ],
          "scattergl": [
           {
            "marker": {
             "colorbar": {
              "outlinewidth": 0,
              "ticks": ""
             }
            },
            "type": "scattergl"
           }
          ],
          "scattermapbox": [
           {
            "marker": {
             "colorbar": {
              "outlinewidth": 0,
              "ticks": ""
             }
            },
            "type": "scattermapbox"
           }
          ],
          "scatterpolar": [
           {
            "marker": {
             "colorbar": {
              "outlinewidth": 0,
              "ticks": ""
             }
            },
            "type": "scatterpolar"
           }
          ],
          "scatterpolargl": [
           {
            "marker": {
             "colorbar": {
              "outlinewidth": 0,
              "ticks": ""
             }
            },
            "type": "scatterpolargl"
           }
          ],
          "scatterternary": [
           {
            "marker": {
             "colorbar": {
              "outlinewidth": 0,
              "ticks": ""
             }
            },
            "type": "scatterternary"
           }
          ],
          "surface": [
           {
            "colorbar": {
             "outlinewidth": 0,
             "ticks": ""
            },
            "colorscale": [
             [
              0,
              "#0d0887"
             ],
             [
              0.1111111111111111,
              "#46039f"
             ],
             [
              0.2222222222222222,
              "#7201a8"
             ],
             [
              0.3333333333333333,
              "#9c179e"
             ],
             [
              0.4444444444444444,
              "#bd3786"
             ],
             [
              0.5555555555555556,
              "#d8576b"
             ],
             [
              0.6666666666666666,
              "#ed7953"
             ],
             [
              0.7777777777777778,
              "#fb9f3a"
             ],
             [
              0.8888888888888888,
              "#fdca26"
             ],
             [
              1,
              "#f0f921"
             ]
            ],
            "type": "surface"
           }
          ],
          "table": [
           {
            "cells": {
             "fill": {
              "color": "#EBF0F8"
             },
             "line": {
              "color": "white"
             }
            },
            "header": {
             "fill": {
              "color": "#C8D4E3"
             },
             "line": {
              "color": "white"
             }
            },
            "type": "table"
           }
          ]
         },
         "layout": {
          "annotationdefaults": {
           "arrowcolor": "#2a3f5f",
           "arrowhead": 0,
           "arrowwidth": 1
          },
          "autotypenumbers": "strict",
          "coloraxis": {
           "colorbar": {
            "outlinewidth": 0,
            "ticks": ""
           }
          },
          "colorscale": {
           "diverging": [
            [
             0,
             "#8e0152"
            ],
            [
             0.1,
             "#c51b7d"
            ],
            [
             0.2,
             "#de77ae"
            ],
            [
             0.3,
             "#f1b6da"
            ],
            [
             0.4,
             "#fde0ef"
            ],
            [
             0.5,
             "#f7f7f7"
            ],
            [
             0.6,
             "#e6f5d0"
            ],
            [
             0.7,
             "#b8e186"
            ],
            [
             0.8,
             "#7fbc41"
            ],
            [
             0.9,
             "#4d9221"
            ],
            [
             1,
             "#276419"
            ]
           ],
           "sequential": [
            [
             0,
             "#0d0887"
            ],
            [
             0.1111111111111111,
             "#46039f"
            ],
            [
             0.2222222222222222,
             "#7201a8"
            ],
            [
             0.3333333333333333,
             "#9c179e"
            ],
            [
             0.4444444444444444,
             "#bd3786"
            ],
            [
             0.5555555555555556,
             "#d8576b"
            ],
            [
             0.6666666666666666,
             "#ed7953"
            ],
            [
             0.7777777777777778,
             "#fb9f3a"
            ],
            [
             0.8888888888888888,
             "#fdca26"
            ],
            [
             1,
             "#f0f921"
            ]
           ],
           "sequentialminus": [
            [
             0,
             "#0d0887"
            ],
            [
             0.1111111111111111,
             "#46039f"
            ],
            [
             0.2222222222222222,
             "#7201a8"
            ],
            [
             0.3333333333333333,
             "#9c179e"
            ],
            [
             0.4444444444444444,
             "#bd3786"
            ],
            [
             0.5555555555555556,
             "#d8576b"
            ],
            [
             0.6666666666666666,
             "#ed7953"
            ],
            [
             0.7777777777777778,
             "#fb9f3a"
            ],
            [
             0.8888888888888888,
             "#fdca26"
            ],
            [
             1,
             "#f0f921"
            ]
           ]
          },
          "colorway": [
           "#636efa",
           "#EF553B",
           "#00cc96",
           "#ab63fa",
           "#FFA15A",
           "#19d3f3",
           "#FF6692",
           "#B6E880",
           "#FF97FF",
           "#FECB52"
          ],
          "font": {
           "color": "#2a3f5f"
          },
          "geo": {
           "bgcolor": "white",
           "lakecolor": "white",
           "landcolor": "#E5ECF6",
           "showlakes": true,
           "showland": true,
           "subunitcolor": "white"
          },
          "hoverlabel": {
           "align": "left"
          },
          "hovermode": "closest",
          "mapbox": {
           "style": "light"
          },
          "paper_bgcolor": "white",
          "plot_bgcolor": "#E5ECF6",
          "polar": {
           "angularaxis": {
            "gridcolor": "white",
            "linecolor": "white",
            "ticks": ""
           },
           "bgcolor": "#E5ECF6",
           "radialaxis": {
            "gridcolor": "white",
            "linecolor": "white",
            "ticks": ""
           }
          },
          "scene": {
           "xaxis": {
            "backgroundcolor": "#E5ECF6",
            "gridcolor": "white",
            "gridwidth": 2,
            "linecolor": "white",
            "showbackground": true,
            "ticks": "",
            "zerolinecolor": "white"
           },
           "yaxis": {
            "backgroundcolor": "#E5ECF6",
            "gridcolor": "white",
            "gridwidth": 2,
            "linecolor": "white",
            "showbackground": true,
            "ticks": "",
            "zerolinecolor": "white"
           },
           "zaxis": {
            "backgroundcolor": "#E5ECF6",
            "gridcolor": "white",
            "gridwidth": 2,
            "linecolor": "white",
            "showbackground": true,
            "ticks": "",
            "zerolinecolor": "white"
           }
          },
          "shapedefaults": {
           "line": {
            "color": "#2a3f5f"
           }
          },
          "ternary": {
           "aaxis": {
            "gridcolor": "white",
            "linecolor": "white",
            "ticks": ""
           },
           "baxis": {
            "gridcolor": "white",
            "linecolor": "white",
            "ticks": ""
           },
           "bgcolor": "#E5ECF6",
           "caxis": {
            "gridcolor": "white",
            "linecolor": "white",
            "ticks": ""
           }
          },
          "title": {
           "x": 0.05
          },
          "xaxis": {
           "automargin": true,
           "gridcolor": "white",
           "linecolor": "white",
           "ticks": "",
           "title": {
            "standoff": 15
           },
           "zerolinecolor": "white",
           "zerolinewidth": 2
          },
          "yaxis": {
           "automargin": true,
           "gridcolor": "white",
           "linecolor": "white",
           "ticks": "",
           "title": {
            "standoff": 15
           },
           "zerolinecolor": "white",
           "zerolinewidth": 2
          }
         }
        },
        "title": {
         "text": "Train : VISOB, Test : VISOB"
        },
        "width": 800,
        "xaxis": {
         "anchor": "y",
         "domain": [
          0,
          0.235
         ],
         "title": {
          "text": "Model"
         }
        },
        "xaxis2": {
         "anchor": "y2",
         "domain": [
          0.255,
          0.49
         ],
         "matches": "x",
         "title": {
          "text": "Model"
         }
        },
        "xaxis3": {
         "anchor": "y3",
         "domain": [
          0.51,
          0.745
         ],
         "matches": "x",
         "title": {
          "text": "Model"
         }
        },
        "xaxis4": {
         "anchor": "y4",
         "domain": [
          0.7649999999999999,
          0.9999999999999999
         ],
         "matches": "x",
         "title": {
          "text": "Model"
         }
        },
        "yaxis": {
         "anchor": "x",
         "domain": [
          0,
          1
         ],
         "title": {
          "text": "Value"
         }
        },
        "yaxis2": {
         "anchor": "x2",
         "domain": [
          0,
          1
         ],
         "matches": "y",
         "showticklabels": false
        },
        "yaxis3": {
         "anchor": "x3",
         "domain": [
          0,
          1
         ],
         "matches": "y",
         "showticklabels": false
        },
        "yaxis4": {
         "anchor": "x4",
         "domain": [
          0,
          1
         ],
         "matches": "y",
         "showticklabels": false
        }
       }
      }
     },
     "metadata": {},
     "output_type": "display_data"
    }
   ],
   "source": [
    "import plotly.express as px\n",
    "import pandas as pd\n",
    "from copy import deepcopy\n",
    "\n",
    "df = pd.read_csv('/home/sreeraj/Documents/nfs_final/final_eval/results/across_device_visob_gender.csv',)\n",
    "df['Device'] = df.Model.apply(lambda x:(x.split('_')[-1]))\n",
    "df.Model = df.Model.apply(lambda x: '_'.join(x.split('_')[:-1]))\n",
    "\n",
    "df_macc = deepcopy(df)\n",
    "df_macc['Value'] = df_macc['Male Acc']\n",
    "df_macc['Metric'] = 'Male Acc'\n",
    "\n",
    "df_facc = deepcopy(df)\n",
    "df_facc['Value'] = df_facc['Female Acc']\n",
    "df_facc['Metric'] = 'Female Acc'\n",
    "\n",
    "df_oacc = deepcopy(df)\n",
    "df_oacc['Value'] = df_facc['Avg Acc']\n",
    "df_oacc['Metric'] = 'Avg Acc'\n",
    "\n",
    "df_mcc = deepcopy(df)\n",
    "df_mcc['Value'] = df_facc['MCC']\n",
    "df_mcc['Metric'] = 'MCC'\n",
    "\n",
    "df = pd.concat([df_macc, df_facc, df_oacc, df_mcc])\n",
    "fig = px.bar(df, x='Model', y='Value', color='Device', title='Train : VISOB, Test : VISOB', barmode='group', labels={'value': 'Acc/MCC', 'variable': 'Metrics'},width=800, height=400, facet_col='Metric')\n",
    "fig.show()"
   ]
  }
 ],
 "metadata": {
  "kernelspec": {
   "display_name": "Python 3.8.13 ('base')",
   "language": "python",
   "name": "python3"
  },
  "language_info": {
   "codemirror_mode": {
    "name": "ipython",
    "version": 3
   },
   "file_extension": ".py",
   "mimetype": "text/x-python",
   "name": "python",
   "nbconvert_exporter": "python",
   "pygments_lexer": "ipython3",
   "version": "3.8.13"
  },
  "orig_nbformat": 4,
  "vscode": {
   "interpreter": {
    "hash": "76b0fc76f4e7781a1b16ee27840856c882773e6a0d6a2c9da2c6c8740670379e"
   }
  }
 },
 "nbformat": 4,
 "nbformat_minor": 2
}
